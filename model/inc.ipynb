{
 "cells": [
  {
   "cell_type": "code",
   "execution_count": null,
   "id": "0e18a7ba-e5be-4e29-a5e1-36238f78f71c",
   "metadata": {},
   "outputs": [],
   "source": [
    "import sys\n",
    "from pathlib import Path\n",
    "import yaml\n",
    "import numpy as np\n",
    "import torch\n",
    "import torch.nn as nn\n",
    "import onnx\n",
    "import onnxruntime\n",
    "from onnxsim import simplify\n",
    "from mlp import MLP"
   ]
  },
  {
   "cell_type": "code",
   "execution_count": null,
   "id": "576ff395",
   "metadata": {},
   "outputs": [],
   "source": [
    "device = 'cpu'\n",
    "with open('checkpoints/config.yaml', 'r', encoding='UTF-8') as handle:\n",
    "    config = yaml.safe_load(handle)\n",
    "print(config)\n",
    "model = MLP(**config['model'])"
   ]
  },
  {
   "cell_type": "code",
   "execution_count": null,
   "id": "64e4359e",
   "metadata": {},
   "outputs": [],
   "source": [
    "import inspect\n",
    "print(inspect.getsource(model.solvers[0]._assemble_shift))"
   ]
  },
  {
   "cell_type": "code",
   "execution_count": null,
   "id": "54f6b0a2",
   "metadata": {},
   "outputs": [],
   "source": [
    "ckpt_path = 'checkpoints/ckpt_last.path'\n",
    "ckpt = torch.load(ckpt_path, map_location='cpu')\n",
    "model_state_dict = ckpt['model']\n",
    "model.load_state_dict(model_state_dict)\n",
    "model.eval()"
   ]
  },
  {
   "cell_type": "code",
   "execution_count": null,
   "id": "aab9c3a5",
   "metadata": {},
   "outputs": [],
   "source": [
    "# Create dummy input with the correct shape\n",
    "in_features = config['model']['in_features']\n",
    "num_particles = config['data']['num_particles']\n",
    "dummy_input = torch.randn(1, num_particles, in_features)\n",
    "\n",
    "# ✅ Wrap the model to use inference() instead of forward()\n",
    "class EmbedWrapper(nn.Module):\n",
    "    def __init__(self, model):\n",
    "        super().__init__()\n",
    "        self.embed = model.embed\n",
    "\n",
    "    def forward(self, x):\n",
    "        return self.embed(x)\n",
    "    \n",
    "\n",
    "embed_model = EmbedWrapper(model)\n",
    "embed_model.eval()\n",
    "\n",
    "torch.onnx.export(\n",
    "    embed_model,\n",
    "    dummy_input,\n",
    "    'embed.onnx',\n",
    "    export_params=True,\n",
    "    opset_version=11,\n",
    "    do_constant_folding=True,\n",
    "    input_names=['input'],\n",
    "    output_names=['output'],\n",
    "    dynamic_axes={'input': {0: 'batch_size'}, 'output': {0: 'batch_size'}}\n",
    ")\n",
    "print(\"Model has been exported to ONNX format.\")"
   ]
  },
  {
   "cell_type": "code",
   "execution_count": null,
   "id": "cfc9f3ca",
   "metadata": {},
   "outputs": [],
   "source": [
    "onnx_model = onnx.load(\"mlp.onnx\")\n",
    "model_simp, check = simplify(onnx_model)\n",
    "assert check, \"Simplified ONNX model could not be validated\"\n",
    "onnx.save(model_simp, \"mlp_simplified.onnx\")\n",
    "print(\"Simplified ONNX model saved.\")"
   ]
  },
  {
   "cell_type": "code",
   "execution_count": null,
   "id": "22bbe834",
   "metadata": {},
   "outputs": [],
   "source": [
    "onnx_model = onnx.load(\"mlp_simplified.onnx\")\n",
    "ops = set([node.op_type for node in onnx_model.graph.node])\n",
    "print(\"Operators in simplified model:\", ops)"
   ]
  },
  {
   "cell_type": "code",
   "execution_count": null,
   "id": "67b51f62",
   "metadata": {},
   "outputs": [],
   "source": [
    "import hls4ml\n",
    "config_hls = hls4ml.utils.config_from_onnx_model('mlp_simplified.onnx')\n",
    "config_hls['Model']['Strategy'] = 'Latency'\n",
    "config_hls['Model']['Precision'] = 'ap_fixed<16,6>'\n",
    "config_hls['IOType'] = 'io_stream'"
   ]
  },
  {
   "cell_type": "code",
   "execution_count": null,
   "id": "b2abe792",
   "metadata": {},
   "outputs": [],
   "source": [
    "output_dir = 'hls4ml_mlp_project'\n",
    "hls_model = hls4ml.converters.convert_from_onnx_model(\n",
    "    'mlp_simplified.onnx',\n",
    "    hls_config=config_hls,\n",
    "    output_dir=output_dir,\n",
    "    backend='Vivado',\n",
    "    part='xcu250-figd2104-2L-e'\n",
    ")\n",
    "print(\"hls4ml model conversion complete.\")"
   ]
  },
  {
   "cell_type": "code",
   "execution_count": null,
   "id": "df03e6bf",
   "metadata": {},
   "outputs": [],
   "source": []
  }
 ],
 "metadata": {
  "kernelspec": {
   "display_name": "hls_env",
   "language": "python",
   "name": "python3"
  },
  "language_info": {
   "codemirror_mode": {
    "name": "ipython",
    "version": 3
   },
   "file_extension": ".py",
   "mimetype": "text/x-python",
   "name": "python",
   "nbconvert_exporter": "python",
   "pygments_lexer": "ipython3",
   "version": "3.9.23"
  }
 },
 "nbformat": 4,
 "nbformat_minor": 5
}

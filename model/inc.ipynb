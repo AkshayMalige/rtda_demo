{
 "cells": [
  {
   "cell_type": "code",
   "execution_count": 1,
   "id": "0e18a7ba-e5be-4e29-a5e1-36238f78f71c",
   "metadata": {},
   "outputs": [],
   "source": [
    "import sys\n",
    "from pathlib import Path\n",
    "import yaml\n",
    "import numpy as np\n",
    "import torch\n",
    "import torch.nn as nn\n",
    "import onnx\n",
    "import onnxruntime\n",
    "from onnxsim import simplify\n",
    "from mlp import MLP"
   ]
  },
  {
   "cell_type": "code",
   "execution_count": 2,
   "id": "576ff395",
   "metadata": {},
   "outputs": [
    {
     "name": "stdout",
     "output_type": "stream",
     "text": [
      "{'checkpointing': {'checkpoint_path': '/home/yhuang2/PROJs/RealTimeAlignment/train/mlp_v2/checkpoints', 'resume': True, 'save_frequency': 20}, 'data': {'mode': 'raw', 'num_particles': 50, 'rounded': False}, 'model': {'embedding_features': [128, 128], 'in_features': 6, 'out_features': 27, 'rezero': True, 'norm': None, 'activ': {'name': 'leakyrelu', 'negative_slope': 0.1}, 'subset_config': [[6, 128, 128, 128, 128], [6, 128, 128, 128, 128], [6, 128, 128, 128, 128]]}, 'train': {'batch_size': 64, 'learning_rate': 0.0001, 'num_epochs': 200, 'num_warmup_epochs': 50, 'sched_gamma': 0.95, 'sched_steps': 20}}\n"
     ]
    }
   ],
   "source": [
    "device = 'cpu'\n",
    "with open('checkpoints/config.yaml', 'r', encoding='UTF-8') as handle:\n",
    "    config = yaml.safe_load(handle)\n",
    "print(config)\n",
    "model = MLP(**config['model'])"
   ]
  },
  {
   "cell_type": "code",
   "execution_count": 3,
   "id": "64e4359e",
   "metadata": {},
   "outputs": [
    {
     "name": "stdout",
     "output_type": "stream",
     "text": [
      "    def _assemble_shift(self, data):\n",
      "        \"\"\"\n",
      "        assemble the subset by shifting the input\n",
      "        \"\"\"\n",
      "        return torch.cat([torch.roll(data, i, dims=1)\n",
      "                          for i in range(self.subset_size)],\n",
      "                         dim=-1)\n",
      "\n"
     ]
    }
   ],
   "source": [
    "import inspect\n",
    "print(inspect.getsource(model.solvers[0]._assemble_shift))"
   ]
  },
  {
   "cell_type": "code",
   "execution_count": 4,
   "id": "54f6b0a2",
   "metadata": {},
   "outputs": [
    {
     "data": {
      "text/plain": [
       "MLP(\n",
       "  (embed): Sequential(\n",
       "    (0): Identity()\n",
       "    (1): Linear(in_features=6, out_features=128, bias=True)\n",
       "    (2): LeakyReLU(negative_slope=0.1)\n",
       "    (3): Identity()\n",
       "    (4): Linear(in_features=128, out_features=128, bias=True)\n",
       "    (5): LeakyReLU(negative_slope=0.1)\n",
       "  )\n",
       "  (solvers): ModuleList(\n",
       "    (0-2): 3 x SubsetSolver(\n",
       "      (model): Sequential(\n",
       "        (0): Identity()\n",
       "        (1): Linear(in_features=768, out_features=128, bias=True)\n",
       "        (2): LeakyReLU(negative_slope=0.1)\n",
       "        (3): ResLinear(\n",
       "          (norm_layer): Identity()\n",
       "          (linear): Linear(in_features=128, out_features=128, bias=True)\n",
       "          (activ): LeakyReLU(negative_slope=0.1)\n",
       "        )\n",
       "        (4): ResLinear(\n",
       "          (norm_layer): Identity()\n",
       "          (linear): Linear(in_features=128, out_features=128, bias=True)\n",
       "          (activ): LeakyReLU(negative_slope=0.1)\n",
       "        )\n",
       "        (5): ResLinear(\n",
       "          (norm_layer): Identity()\n",
       "          (linear): Linear(in_features=128, out_features=128, bias=True)\n",
       "          (activ): LeakyReLU(negative_slope=0.1)\n",
       "        )\n",
       "      )\n",
       "    )\n",
       "  )\n",
       "  (output): Linear(in_features=128, out_features=27, bias=True)\n",
       ")"
      ]
     },
     "execution_count": 4,
     "metadata": {},
     "output_type": "execute_result"
    }
   ],
   "source": [
    "ckpt_path = 'checkpoints/ckpt_last.path'\n",
    "ckpt = torch.load(ckpt_path, map_location='cpu')\n",
    "model_state_dict = ckpt['model']\n",
    "model.load_state_dict(model_state_dict)\n",
    "model.eval()"
   ]
  },
  {
   "cell_type": "code",
   "execution_count": 5,
   "id": "aab9c3a5",
   "metadata": {},
   "outputs": [
    {
     "name": "stdout",
     "output_type": "stream",
     "text": [
      "Model has been exported to ONNX format.\n"
     ]
    }
   ],
   "source": [
    "# Create dummy input with the correct shape\n",
    "in_features = config['model']['in_features']\n",
    "num_particles = config['data']['num_particles']\n",
    "dummy_input = torch.randn(1, num_particles, in_features)\n",
    "\n",
    "# ✅ Wrap the model to use inference() instead of forward()\n",
    "class EmbedWrapper(nn.Module):\n",
    "    def __init__(self, model):\n",
    "        super().__init__()\n",
    "        self.embed = model.embed\n",
    "\n",
    "    def forward(self, x):\n",
    "        return self.embed(x)\n",
    "    \n",
    "\n",
    "embed_model = EmbedWrapper(model)\n",
    "embed_model.eval()\n",
    "\n",
    "torch.onnx.export(\n",
    "    embed_model,\n",
    "    dummy_input,\n",
    "    'embed.onnx',\n",
    "    export_params=True,\n",
    "    opset_version=11,\n",
    "    do_constant_folding=True,\n",
    "    input_names=['input'],\n",
    "    output_names=['output'],\n",
    "    dynamic_axes={'input': {0: 'batch_size'}, 'output': {0: 'batch_size'}}\n",
    ")\n",
    "print(\"Model has been exported to ONNX format.\")"
   ]
  },
  {
   "cell_type": "code",
   "execution_count": 6,
   "id": "cfc9f3ca",
   "metadata": {},
   "outputs": [
    {
     "name": "stdout",
     "output_type": "stream",
     "text": [
      "Simplified ONNX model saved.\n"
     ]
    }
   ],
   "source": [
    "onnx_model = onnx.load(\"embed.onnx\")\n",
    "model_simp, check = simplify(onnx_model)\n",
    "assert check, \"Simplified ONNX model could not be validated\"\n",
    "onnx.save(model_simp, \"mlp_simplified.onnx\")\n",
    "print(\"Simplified ONNX model saved.\")"
   ]
  },
  {
   "cell_type": "code",
   "execution_count": 7,
   "id": "22bbe834",
   "metadata": {},
   "outputs": [
    {
     "name": "stdout",
     "output_type": "stream",
     "text": [
      "Operators in simplified model: {'MatMul', 'Add', 'LeakyRelu'}\n",
      "00: /embed/embed.1/MatMul - MatMul\n",
      "01: /embed/embed.1/Add - Add\n",
      "02: /embed/embed.2/LeakyRelu - LeakyRelu\n",
      "03: /embed/embed.4/MatMul - MatMul\n",
      "04: /embed/embed.4/Add - Add\n",
      "05: /embed/embed.5/LeakyRelu - LeakyRelu\n"
     ]
    }
   ],
   "source": [
    "onnx_model = onnx.load(\"mlp_simplified.onnx\")\n",
    "ops = set([node.op_type for node in onnx_model.graph.node])\n",
    "print(\"Operators in simplified model:\", ops)\n",
    "for i, node in enumerate(onnx_model.graph.node):\n",
    "    print(f\"{i:02d}: {node.name} - {node.op_type}\")"
   ]
  },
  {
   "cell_type": "code",
   "execution_count": null,
   "id": "67b51f62",
   "metadata": {},
   "outputs": [],
   "source": [
    "import hls4ml\n",
    "config_hls = hls4ml.utils.config_from_onnx_model('mlp_simplified.onnx')\n",
    "config_hls['Model']['Strategy'] = 'Latency'\n",
    "config_hls['Model']['Precision'] = 'ap_fixed<16,6>'\n",
    "config_hls['IOType'] = 'io_stream'"
   ]
  },
  {
   "cell_type": "code",
   "execution_count": null,
   "id": "b2abe792",
   "metadata": {},
   "outputs": [],
   "source": [
    "output_dir = 'hls4ml_mlp_project'\n",
    "hls_model = hls4ml.converters.convert_from_onnx_model(\n",
    "    'mlp_simplified.onnx',\n",
    "    hls_config=config_hls,\n",
    "    output_dir=output_dir,\n",
    "    backend='Vivado',\n",
    "    part='xcu250-figd2104-2L-e'\n",
    ")\n",
    "print(\"hls4ml model conversion complete.\")"
   ]
  },
  {
   "cell_type": "code",
   "execution_count": null,
   "id": "df03e6bf",
   "metadata": {},
   "outputs": [],
   "source": []
  }
 ],
 "metadata": {
  "kernelspec": {
   "display_name": "hls_env",
   "language": "python",
   "name": "python3"
  },
  "language_info": {
   "codemirror_mode": {
    "name": "ipython",
    "version": 3
   },
   "file_extension": ".py",
   "mimetype": "text/x-python",
   "name": "python",
   "nbconvert_exporter": "python",
   "pygments_lexer": "ipython3",
   "version": "3.9.23"
  }
 },
 "nbformat": 4,
 "nbformat_minor": 5
}

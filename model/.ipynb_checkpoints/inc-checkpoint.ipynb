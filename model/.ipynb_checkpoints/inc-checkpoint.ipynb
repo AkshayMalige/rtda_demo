{
 "cells": [
  {
   "cell_type": "code",
   "execution_count": null,
   "id": "0e18a7ba-e5be-4e29-a5e1-36238f78f71c",
   "metadata": {},
   "outputs": [],
   "source": []
  }
 ],
 "metadata": {
  "kernelspec": {
   "display_name": "Python 3 (ipykernel)",
   "language": "python",
   "name": "python3"
  },
  "language_info": {
   "codemirror_mode": {
    "name": "ipython",
    "version": 3
   },
   "file_extension": ".py",
   "mimetype": "text/x-python",
   "name": "python",
   "nbconvert_exporter": "python",
   "pygments_lexer": "ipython3",
   "version": "3.9.23"
  }
 },
 "nbformat": 4,
 "nbformat_minor": 5
}

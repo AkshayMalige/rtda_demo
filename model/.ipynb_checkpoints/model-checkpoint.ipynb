{
 "cells": [
  {
   "cell_type": "code",
   "execution_count": 3,
   "id": "0c49b2ce-a392-43b3-a296-2e723dae77e1",
   "metadata": {},
   "outputs": [],
   "source": [
    "import onnx\n",
    "from onnx import helper, numpy_helper\n",
    "import hls4ml\n",
    "from hls4ml.converters import convert_from_onnx_model"
   ]
  },
  {
   "cell_type": "code",
   "execution_count": null,
   "id": "f4f82d77-a776-423a-816f-3cb73dfe373c",
   "metadata": {},
   "outputs": [],
   "source": [
    "def print_model_params(model_path):\n",
    "    model = onnx.load(model_path)\n",
    "\n",
    "    print(\"==== Model IR Info ====\")\n",
    "    print(f\"IR version: {model.ir_version}\")\n",
    "    print(f\"Producer name: {model.producer_name}\")\n",
    "    print(f\"Producer version: {model.producer_version}\")\n",
    "    print(f\"Domain: {model.domain}\")\n",
    "    print(f\"Model version: {model.model_version}\")\n",
    "    print(f\"Doc string: {model.doc_string}\")\n",
    "    print()\n",
    "    \n",
    "    # Print input/output info\n",
    "    print(\"==== Model Inputs ====\")\n",
    "    for input in model.graph.input:\n",
    "        print(f\"Name: {input.name}\")\n",
    "        print(f\"Type: {input.type}\")\n",
    "        print()\n",
    "    \n",
    "    print(\"==== Model Outputs ====\")\n",
    "    for output in model.graph.output:\n",
    "        print(f\"Name: {output.name}\")\n",
    "        print(f\"Type: {output.type}\")\n",
    "        print()\n",
    "    \n",
    "    # Print initializer names (weights/biases)\n",
    "    print(\"==== Initializers (weights/biases) ====\")\n",
    "    for init in model.graph.initializer:\n",
    "        print(f\"Name: {init.name}, Shape: {[dim for dim in init.dims]}\")\n",
    "    print()\n",
    "    \n",
    "    # Print full node list (layer-by-layer)\n",
    "    print(\"==== Layers (Nodes) ====\")\n",
    "    for i, node in enumerate(model.graph.node):\n",
    "        print(f\"Layer {i}:\")\n",
    "        print(f\"  Op type: {node.op_type}\")\n",
    "        print(f\"  Name: {node.name if node.name else '(unnamed)'}\")\n",
    "        print(f\"  Inputs: {node.input}\")\n",
    "        print(f\"  Outputs: {node.output}\")\n",
    "        print(f\"  Attributes:\")\n",
    "        for attr in node.attribute:\n",
    "            print(f\"    - {attr.name}: {helper.get_attribute_value(attr)}\")\n",
    "        print()"
   ]
  },
  {
   "cell_type": "code",
   "execution_count": null,
   "id": "def68c36-adb9-4e25-8558-5fe14da72434",
   "metadata": {},
   "outputs": [],
   "source": [
    "onnx_model = onnx.load('./mlp.onnx')\n",
    "\n",
    "#convert to HLS\n",
    "hls_model = convert_from_onnx_model(onnx_model, hls_config={},\n",
    "    output_dir='my_hls_project',\n",
    "    part='xcu250-figd2104-2L-e')"
   ]
  },
  {
   "cell_type": "code",
   "execution_count": null,
   "id": "9ad8e379-6835-4088-b451-41bf01a18266",
   "metadata": {},
   "outputs": [],
   "source": []
  }
 ],
 "metadata": {
  "kernelspec": {
   "display_name": "Python 3 (ipykernel)",
   "language": "python",
   "name": "python3"
  },
  "language_info": {
   "codemirror_mode": {
    "name": "ipython",
    "version": 3
   },
   "file_extension": ".py",
   "mimetype": "text/x-python",
   "name": "python",
   "nbconvert_exporter": "python",
   "pygments_lexer": "ipython3",
   "version": "3.9.23"
  }
 },
 "nbformat": 4,
 "nbformat_minor": 5
}

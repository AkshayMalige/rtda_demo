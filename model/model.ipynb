{
 "cells": [
  {
   "cell_type": "code",
   "execution_count": 4,
   "id": "0c49b2ce-a392-43b3-a296-2e723dae77e1",
   "metadata": {},
   "outputs": [],
   "source": [
    "import onnx\n",
    "from onnx import helper, numpy_helper\n",
    "import hls4ml\n",
    "from hls4ml.converters import convert_from_onnx_model"
   ]
  },
  {
   "cell_type": "code",
   "execution_count": null,
   "id": "f4f82d77-a776-423a-816f-3cb73dfe373c",
   "metadata": {},
   "outputs": [],
   "source": [
    "def print_model_params(model_path):\n",
    "    model = onnx.load(model_path)\n",
    "\n",
    "    print(\"==== Model IR Info ====\")\n",
    "    print(f\"IR version: {model.ir_version}\")\n",
    "    print(f\"Producer name: {model.producer_name}\")\n",
    "    print(f\"Producer version: {model.producer_version}\")\n",
    "    print(f\"Domain: {model.domain}\")\n",
    "    print(f\"Model version: {model.model_version}\")\n",
    "    print(f\"Doc string: {model.doc_string}\")\n",
    "    print()\n",
    "    \n",
    "    # Print input/output info\n",
    "    print(\"==== Model Inputs ====\")\n",
    "    for input in model.graph.input:\n",
    "        print(f\"Name: {input.name}\")\n",
    "        print(f\"Type: {input.type}\")\n",
    "        print()\n",
    "    \n",
    "    print(\"==== Model Outputs ====\")\n",
    "    for output in model.graph.output:\n",
    "        print(f\"Name: {output.name}\")\n",
    "        print(f\"Type: {output.type}\")\n",
    "        print()\n",
    "    \n",
    "    # Print initializer names (weights/biases)\n",
    "    print(\"==== Initializers (weights/biases) ====\")\n",
    "    for init in model.graph.initializer:\n",
    "        print(f\"Name: {init.name}, Shape: {[dim for dim in init.dims]}\")\n",
    "    print()\n",
    "    \n",
    "    # Print full node list (layer-by-layer)\n",
    "    print(\"==== Layers (Nodes) ====\")\n",
    "    for i, node in enumerate(model.graph.node):\n",
    "        print(f\"Layer {i}:\")\n",
    "        print(f\"  Op type: {node.op_type}\")\n",
    "        print(f\"  Name: {node.name if node.name else '(unnamed)'}\")\n",
    "        print(f\"  Inputs: {node.input}\")\n",
    "        print(f\"  Outputs: {node.output}\")\n",
    "        print(f\"  Attributes:\")\n",
    "        for attr in node.attribute:\n",
    "            print(f\"    - {attr.name}: {helper.get_attribute_value(attr)}\")\n",
    "        print()"
   ]
  },
  {
   "cell_type": "code",
   "execution_count": 5,
   "id": "def68c36-adb9-4e25-8558-5fe14da72434",
   "metadata": {},
   "outputs": [
    {
     "name": "stdout",
     "output_type": "stream",
     "text": [
      "Interpreting Model ...\n",
      "Output layers:  ['/output/Gemm']\n",
      "Input shape: [None, 50, 6]\n",
      "Topology:\n",
      "Layer name: /embed/embed.0/MatMul, layer type: Dense, current shape: [[None, 50, 6]]\n",
      "Layer name: /embed/embed.0/Add, layer type: BiasAdd, current shape: [[None, 50, 128]]\n"
     ]
    },
    {
     "ename": "Exception",
     "evalue": "ERROR: Unsupported operation type: Sin",
     "output_type": "error",
     "traceback": [
      "\u001b[0;31m---------------------------------------------------------------------------\u001b[0m",
      "\u001b[0;31mException\u001b[0m                                 Traceback (most recent call last)",
      "Cell \u001b[0;32mIn[5], line 4\u001b[0m\n\u001b[1;32m      1\u001b[0m onnx_model \u001b[38;5;241m=\u001b[39m onnx\u001b[38;5;241m.\u001b[39mload(\u001b[38;5;124m'\u001b[39m\u001b[38;5;124m./mlp.onnx\u001b[39m\u001b[38;5;124m'\u001b[39m)\n\u001b[1;32m      3\u001b[0m \u001b[38;5;66;03m#convert to HLS\u001b[39;00m\n\u001b[0;32m----> 4\u001b[0m hls_model \u001b[38;5;241m=\u001b[39m \u001b[43mconvert_from_onnx_model\u001b[49m\u001b[43m(\u001b[49m\u001b[43monnx_model\u001b[49m\u001b[43m,\u001b[49m\u001b[43m \u001b[49m\u001b[43mhls_config\u001b[49m\u001b[38;5;241;43m=\u001b[39;49m\u001b[43m{\u001b[49m\u001b[43m}\u001b[49m\u001b[43m,\u001b[49m\n\u001b[1;32m      5\u001b[0m \u001b[43m    \u001b[49m\u001b[43moutput_dir\u001b[49m\u001b[38;5;241;43m=\u001b[39;49m\u001b[38;5;124;43m'\u001b[39;49m\u001b[38;5;124;43mmy_hls_project\u001b[39;49m\u001b[38;5;124;43m'\u001b[39;49m\u001b[43m,\u001b[49m\n\u001b[1;32m      6\u001b[0m \u001b[43m    \u001b[49m\u001b[43mpart\u001b[49m\u001b[38;5;241;43m=\u001b[39;49m\u001b[38;5;124;43m'\u001b[39;49m\u001b[38;5;124;43mxcu250-figd2104-2L-e\u001b[39;49m\u001b[38;5;124;43m'\u001b[39;49m\u001b[43m)\u001b[49m\n",
      "File \u001b[0;32m~/miniconda3/envs/hls_env/lib/python3.9/site-packages/hls4ml/converters/__init__.py:366\u001b[0m, in \u001b[0;36mconvert_from_onnx_model\u001b[0;34m(model, output_dir, project_name, input_data_tb, output_data_tb, backend, hls_config, **kwargs)\u001b[0m\n\u001b[1;32m    362\u001b[0m config[\u001b[38;5;124m'\u001b[39m\u001b[38;5;124mHLSConfig\u001b[39m\u001b[38;5;124m'\u001b[39m][\u001b[38;5;124m'\u001b[39m\u001b[38;5;124mModel\u001b[39m\u001b[38;5;124m'\u001b[39m] \u001b[38;5;241m=\u001b[39m _check_model_config(model_config)\n\u001b[1;32m    364\u001b[0m _check_hls_config(config, hls_config)\n\u001b[0;32m--> 366\u001b[0m \u001b[38;5;28;01mreturn\u001b[39;00m \u001b[43monnx_to_hls\u001b[49m\u001b[43m(\u001b[49m\u001b[43mconfig\u001b[49m\u001b[43m)\u001b[49m\n",
      "File \u001b[0;32m~/miniconda3/envs/hls_env/lib/python3.9/site-packages/hls4ml/converters/onnx_to_hls.py:281\u001b[0m, in \u001b[0;36monnx_to_hls\u001b[0;34m(config)\u001b[0m\n\u001b[1;32m    279\u001b[0m \u001b[38;5;28;01mfor\u001b[39;00m node \u001b[38;5;129;01min\u001b[39;00m graph\u001b[38;5;241m.\u001b[39mnode:\n\u001b[1;32m    280\u001b[0m     \u001b[38;5;28;01mif\u001b[39;00m node\u001b[38;5;241m.\u001b[39mop_type \u001b[38;5;129;01mnot\u001b[39;00m \u001b[38;5;129;01min\u001b[39;00m supported_layers:\n\u001b[0;32m--> 281\u001b[0m         \u001b[38;5;28;01mraise\u001b[39;00m \u001b[38;5;167;01mException\u001b[39;00m(\u001b[38;5;124mf\u001b[39m\u001b[38;5;124m'\u001b[39m\u001b[38;5;124mERROR: Unsupported operation type: \u001b[39m\u001b[38;5;132;01m{\u001b[39;00mnode\u001b[38;5;241m.\u001b[39mop_type\u001b[38;5;132;01m}\u001b[39;00m\u001b[38;5;124m'\u001b[39m)\n\u001b[1;32m    283\u001b[0m     \u001b[38;5;66;03m# If not the first layer then input shape is taken from last layer's output\u001b[39;00m\n\u001b[1;32m    284\u001b[0m     \u001b[38;5;28;01mif\u001b[39;00m layer_counter \u001b[38;5;241m!=\u001b[39m \u001b[38;5;241m0\u001b[39m:\n",
      "\u001b[0;31mException\u001b[0m: ERROR: Unsupported operation type: Sin"
     ]
    }
   ],
   "source": [
    "onnx_model = onnx.load('./mlp.onnx')\n",
    "\n",
    "#convert to HLS\n",
    "hls_model = convert_from_onnx_model(onnx_model, hls_config={},\n",
    "    output_dir='my_hls_project',\n",
    "    part='xcu250-figd2104-2L-e')"
   ]
  },
  {
   "cell_type": "code",
   "execution_count": null,
   "id": "9ad8e379-6835-4088-b451-41bf01a18266",
   "metadata": {},
   "outputs": [],
   "source": []
  }
 ],
 "metadata": {
  "kernelspec": {
   "display_name": "Python 3 (ipykernel)",
   "language": "python",
   "name": "python3"
  },
  "language_info": {
   "codemirror_mode": {
    "name": "ipython",
    "version": 3
   },
   "file_extension": ".py",
   "mimetype": "text/x-python",
   "name": "python",
   "nbconvert_exporter": "python",
   "pygments_lexer": "ipython3",
   "version": "3.9.23"
  }
 },
 "nbformat": 4,
 "nbformat_minor": 5
}
